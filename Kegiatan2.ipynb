{
 "cells": [
  {
   "cell_type": "code",
   "execution_count": 3,
   "metadata": {},
   "outputs": [
    {
     "name": "stdout",
     "output_type": "stream",
     "text": [
      "Data integer dalam bentuk dictionary:\n",
      "{'satuan': [5, 7, 2], 'puluhan': [0, 3, 1], 'ratusan': [1, 7, 4]}\n",
      "Data float dalam bentuk tuple:\n",
      "(3.1, 2.7, 5.5)\n",
      "Data string dalam bentuk list:\n",
      "['Hello', 'python', 'World', 'AI']\n"
     ]
    }
   ],
   "source": [
    "random_list = [105, 3.1, \"Hello\", 737, \"python\", 2.7, \"World\", 412, 5.5, \"AI\"]\n",
    "\n",
    "int_dict = {\"satuan\": [], \"puluhan\": [], \"ratusan\": []}\n",
    "float_tuple = ()\n",
    "string_list = []\n",
    "\n",
    "for item in random_list:\n",
    "    if isinstance(item, int):\n",
    "        # Pisahkan Angka Satuan, Puluhan, dan Ratusan\n",
    "        satuan = item % 10\n",
    "        puluhan = (item // 10) % 10\n",
    "        ratusan = item // 100\n",
    "        int_dict[\"satuan\"].append(satuan)\n",
    "        int_dict[\"puluhan\"].append(puluhan)\n",
    "        int_dict[\"ratusan\"].append(ratusan)\n",
    "    elif isinstance(item, float):\n",
    "        # Data float disimpan dalam bentuk tuple\n",
    "        float_tuple += (item,)\n",
    "    elif isinstance(item, str):\n",
    "        # Data string disimpan dalam list\n",
    "        string_list.append(item)\n",
    "\n",
    "print(\"Data integer dalam bentuk dictionary:\")\n",
    "print(int_dict)\n",
    "print(\"Data float dalam bentuk tuple:\")\n",
    "print(float_tuple)\n",
    "print(\"Data string dalam bentuk list:\")\n",
    "print(string_list)"
   ]
  }
 ],
 "metadata": {
  "kernelspec": {
   "display_name": "base",
   "language": "python",
   "name": "python3"
  },
  "language_info": {
   "codemirror_mode": {
    "name": "ipython",
    "version": 3
   },
   "file_extension": ".py",
   "mimetype": "text/x-python",
   "name": "python",
   "nbconvert_exporter": "python",
   "pygments_lexer": "ipython3",
   "version": "3.9.12"
  },
  "orig_nbformat": 4
 },
 "nbformat": 4,
 "nbformat_minor": 2
}
