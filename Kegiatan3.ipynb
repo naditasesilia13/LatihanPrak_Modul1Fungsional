{
 "cells": [
  {
   "cell_type": "code",
   "execution_count": 4,
   "metadata": {},
   "outputs": [
    {
     "name": "stdout",
     "output_type": "stream",
     "text": [
      "Hasil Nilai Akhir Mahasiswa :\n",
      "Nama : Mahasiswa 1\tNilai Akhir : 82.50\n",
      "Nama : Mahasiswa 2\tNilai Akhir : 80.00\n",
      "Nama : Mahasiswa 3\tNilai Akhir : 87.50\n"
     ]
    }
   ],
   "source": [
    "# Fungsi yang digunakan untuk menghitung nilai akhir satu mahasiswa\n",
    "def hitung_nilai_akhir(uts, uas):\n",
    "    return (uts + uas) / 2\n",
    "\n",
    "# Menghitung nilai akhir semua mahasiswa\n",
    "def hitung_nilai_akhir_semua(data_mahasiswa):\n",
    "    data_nilai_akhir = {}\n",
    "    for nama, nilai in data_mahasiswa.items():\n",
    "        uts, uas = nilai\n",
    "        nilai_akhir = hitung_nilai_akhir(uts, uas)\n",
    "        data_nilai_akhir[nama] = nilai_akhir\n",
    "    return data_nilai_akhir\n",
    "\n",
    "# Menampilkan nilai akhir\n",
    "def tampilkan_nilai_akhir(data_nilai_akhir):\n",
    "    print(\"Hasil Nilai Akhir Mahasiswa :\")\n",
    "    for nama, nilai_akhir in data_nilai_akhir.items():\n",
    "        print(\"Nama : {}\\tNilai Akhir : {:.2f}\".format(nama, nilai_akhir))\n",
    "\n",
    "def main():\n",
    "    data_mahasiswa = {\n",
    "        \"Mahasiswa 1\": (80, 85),  \n",
    "        \"Mahasiswa 2\": (85, 75),  \n",
    "        \"Mahasiswa 3\": (85, 90),  \n",
    "    }\n",
    "\n",
    "    data_nilai_akhir = hitung_nilai_akhir_semua(data_mahasiswa)\n",
    "    \n",
    "    tampilkan_nilai_akhir(data_nilai_akhir)\n",
    "\n",
    "if __name__ == \"__main__\":\n",
    "    main()"
   ]
  }
 ],
 "metadata": {
  "kernelspec": {
   "display_name": "base",
   "language": "python",
   "name": "python3"
  },
  "language_info": {
   "codemirror_mode": {
    "name": "ipython",
    "version": 3
   },
   "file_extension": ".py",
   "mimetype": "text/x-python",
   "name": "python",
   "nbconvert_exporter": "python",
   "pygments_lexer": "ipython3",
   "version": "3.9.12"
  },
  "orig_nbformat": 4
 },
 "nbformat": 4,
 "nbformat_minor": 2
}
