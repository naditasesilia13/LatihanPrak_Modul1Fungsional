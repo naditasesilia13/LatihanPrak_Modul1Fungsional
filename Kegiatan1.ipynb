{
 "cells": [
  {
   "cell_type": "code",
   "execution_count": 1,
   "metadata": {},
   "outputs": [
    {
     "name": "stdout",
     "output_type": "stream",
     "text": [
      "Hasil evaluasi pohon ekspresi: 20\n"
     ]
    }
   ],
   "source": [
    "# Fungsi Tambah\n",
    "def add(a, b):\n",
    "    return a + b\n",
    "\n",
    "# Fungsi Kurang\n",
    "def minus(a, b):\n",
    "    return a - b\n",
    "\n",
    "# Fungsi Perkalian\n",
    "def mult(a, b):\n",
    "    return a * b\n",
    "\n",
    "# Fungsi Pembagian\n",
    "def div(a, b):\n",
    "    if b != 0:\n",
    "        return a / b\n",
    "    else:\n",
    "        return \"Error: Pembagian oleh nol tidak diperbolehkan\"\n",
    "\n",
    "# Fungsi tree yang mengambil ekspresi dalam bentuk tupel\n",
    "def tree(expression):\n",
    "    if isinstance(expression, tuple):\n",
    "        left, operator, right = expression\n",
    "        if operator == '+':\n",
    "            return add(tree(left), tree(right))\n",
    "        elif operator == '-':\n",
    "            return minus(tree(left), tree(right))\n",
    "        elif operator == '*':\n",
    "            return mult(tree(left), tree(right))\n",
    "        elif operator == '/':\n",
    "            return div(tree(left), tree(right))\n",
    "    else:\n",
    "        return expression\n",
    "\n",
    "# Contoh penggunaan tree\n",
    "expression_tree = ((2, '+', 3), '*', (5, '-', 1))\n",
    "result = tree(expression_tree)\n",
    "print(\"Hasil evaluasi pohon ekspresi:\", result)"
   ]
  }
 ],
 "metadata": {
  "kernelspec": {
   "display_name": "base",
   "language": "python",
   "name": "python3"
  },
  "language_info": {
   "codemirror_mode": {
    "name": "ipython",
    "version": 3
   },
   "file_extension": ".py",
   "mimetype": "text/x-python",
   "name": "python",
   "nbconvert_exporter": "python",
   "pygments_lexer": "ipython3",
   "version": "3.9.12"
  },
  "orig_nbformat": 4
 },
 "nbformat": 4,
 "nbformat_minor": 2
}
